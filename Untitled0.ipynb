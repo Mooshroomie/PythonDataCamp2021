{
  "nbformat": 4,
  "nbformat_minor": 0,
  "metadata": {
    "colab": {
      "name": "Untitled0.ipynb",
      "provenance": [],
      "collapsed_sections": []
    },
    "kernelspec": {
      "name": "python3",
      "display_name": "Python 3"
    },
    "language_info": {
      "name": "python"
    },
    "accelerator": "GPU"
  },
  "cells": [
    {
      "cell_type": "code",
      "metadata": {
        "colab": {
          "base_uri": "https://localhost:8080/"
        },
        "id": "1pkz6fOrdV66",
        "outputId": "420c888c-753a-49d5-8ae1-c0a723c2055e"
      },
      "source": [
        "import pandas as pd\n",
        "import matplotlib.pyplot as plt\n",
        "import numpy as np\n",
        "df = pd.read_csv(\"database.csv\")\n"
      ],
      "execution_count": 91,
      "outputs": [
        {
          "output_type": "stream",
          "text": [
            "/usr/local/lib/python3.7/dist-packages/IPython/core/interactiveshell.py:2718: DtypeWarning: Columns (16) have mixed types.Specify dtype option on import or set low_memory=False.\n",
            "  interactivity=interactivity, compiler=compiler, result=result)\n"
          ],
          "name": "stderr"
        }
      ]
    },
    {
      "cell_type": "code",
      "metadata": {
        "colab": {
          "base_uri": "https://localhost:8080/"
        },
        "id": "CV01lea_kStW",
        "outputId": "736abbee-026b-4b37-f4d7-577c4e934f02"
      },
      "source": [
        "print(df.columns)"
      ],
      "execution_count": 5,
      "outputs": [
        {
          "output_type": "stream",
          "text": [
            "Index(['Record ID', 'Agency Code', 'Agency Name', 'Agency Type', 'City',\n",
            "       'State', 'Year', 'Month', 'Incident', 'Crime Type', 'Crime Solved',\n",
            "       'Victim Sex', 'Victim Age', 'Victim Race', 'Victim Ethnicity',\n",
            "       'Perpetrator Sex', 'Perpetrator Age', 'Perpetrator Race',\n",
            "       'Perpetrator Ethnicity', 'Relationship', 'Weapon', 'Victim Count',\n",
            "       'Perpetrator Count', 'Record Source'],\n",
            "      dtype='object')\n"
          ],
          "name": "stdout"
        }
      ]
    },
    {
      "cell_type": "code",
      "metadata": {
        "id": "7J_4fnVckLEc"
      },
      "source": [
        "df.plot(kind=\"scatter\", x=\"Crime Solved\", y=\"State\", figsize=(100,100))"
      ],
      "execution_count": null,
      "outputs": []
    },
    {
      "cell_type": "code",
      "metadata": {
        "colab": {
          "base_uri": "https://localhost:8080/"
        },
        "id": "QiULLlPdoXYd",
        "outputId": "db8310bd-18b8-41fc-f828-c15337f6550b"
      },
      "source": [
        "df[\"State\"]"
      ],
      "execution_count": 36,
      "outputs": [
        {
          "output_type": "execute_result",
          "data": {
            "text/plain": [
              "0          Alaska\n",
              "1          Alaska\n",
              "2          Alaska\n",
              "3          Alaska\n",
              "4          Alaska\n",
              "           ...   \n",
              "638449    Wyoming\n",
              "638450    Wyoming\n",
              "638451    Wyoming\n",
              "638452    Wyoming\n",
              "638453    Wyoming\n",
              "Name: State, Length: 638454, dtype: object"
            ]
          },
          "metadata": {
            "tags": []
          },
          "execution_count": 36
        }
      ]
    },
    {
      "cell_type": "code",
      "metadata": {
        "colab": {
          "base_uri": "https://localhost:8080/"
        },
        "id": "dOiRgEu0pfTN",
        "outputId": "78eea8b9-89eb-414e-bd48-72b8b3748478"
      },
      "source": [
        "stateAK = df.loc[df['State'] == 'Alaska']\n",
        "aklength = len(stateAK)\n",
        "print(ak_length)\n",
        "AKsolved= stateAK.loc[stateAK['Crime Solved'] == 'Yes']\n",
        "AKsolvednum = len(AKsolved)\n",
        "print(AKsolvednum)"
      ],
      "execution_count": 54,
      "outputs": [
        {
          "output_type": "stream",
          "text": [
            "1617\n",
            "1320\n"
          ],
          "name": "stdout"
        }
      ]
    },
    {
      "cell_type": "code",
      "metadata": {
        "id": "eYWlQprGs59T"
      },
      "source": [
        "def findsolved(State):\n",
        "  state_list = df.loc[df['State'] == State]\n",
        "  state_length = len(state_list)\n",
        "  state_solved = state_list.loc[state_list['Crime Solved'] == 'Yes']\n",
        "  state_solved_num = len(state_solved)\n",
        "  return state_length, state_solved_num"
      ],
      "execution_count": 70,
      "outputs": []
    },
    {
      "cell_type": "markdown",
      "metadata": {
        "id": "Vj6MlV3XxXQt"
      },
      "source": [
        "\n",
        "1.   Create empty list for solved_num/total\n",
        "2.   Add the value for each state to the list in the loop\n",
        "3.   Find highest value from list\n",
        "\n"
      ]
    },
    {
      "cell_type": "code",
      "metadata": {
        "colab": {
          "base_uri": "https://localhost:8080/"
        },
        "id": "sbGKZ0LktY4o",
        "outputId": "30d181f4-da68-44a1-9374-42027f37ca28"
      },
      "source": [
        "\n",
        "state_list = [\"Alabama\", \"Alaska\", \"Arizona\", \"Arkansas\", \"California\", \"Colorado\", \"Connecticut\", \"Delaware\", \"Florida\", \"Georgia\", \"Hawaii\", \"Idaho\", \"Illinois\", \"Indiana\", \"Iowa\", \"Kansas\", \"Kentucky\", \"Louisiana\", \"Maine\", \"Maryland\", \"Massachusetts\", \"Michigan\", \"Minnesota\", \"Mississippi\", \"Missouri\", \"Montana\", \"Nebraska\", \"Nevada\", \"New Hampshire\", \"New Jersey\", \"New Mexico\", \"New York\", \"North Carolina\", \"North Dakota\", \"Ohio\", \"Oklahoma\", \"Oregon\", \"Pennsylvania\", \"Rhode Island\", \"South Carolina\", \"South Dakota\", \"Tennessee\", \"Texas\", \"Utah\", \"Vermont\", \"Virginia\", \"Washington\", \"West Virginia\", \"Wisconsin\", \"Wyoming\"]\n",
        "ratio = []\n",
        "for state_name in state_list:\n",
        "  total, solved_num = findsolved(state_name)\n",
        "    ratio.append(solved_num / total)\n",
        "  else:\n",
        "    ratio.append(0)\n",
        "max_index = np.argmax(ratio)\n",
        "min_index = np.argmin(ratio)\n",
        "\n",
        "print(f\"Lowest Crime Solving Rate: {state_list[min_index]} \\n----- \\nHighest Crime Solving Rate: {state_list[max_index]}\")"
      ],
      "execution_count": 102,
      "outputs": [
        {
          "output_type": "stream",
          "text": [
            "Lowest Crime Solving Rate: Rhode Island \n",
            "----- \n",
            "Highest Crime Solving Rate: North Dakota\n"
          ],
          "name": "stdout"
        }
      ]
    },
    {
      "cell_type": "code",
      "metadata": {
        "colab": {
          "base_uri": "https://localhost:8080/"
        },
        "id": "QyMcfyBIwbkd",
        "outputId": "210bc57f-d379-48f2-ee41-e7704481a330"
      },
      "source": [
        "print(len(state_list))\n",
        "\n"
      ],
      "execution_count": 81,
      "outputs": [
        {
          "output_type": "stream",
          "text": [
            "50\n",
            "range(0, 5)\n"
          ],
          "name": "stdout"
        }
      ]
    },
    {
      "cell_type": "code",
      "metadata": {
        "id": "e_m21vfiumcM"
      },
      "source": [
        "x, y = function()"
      ],
      "execution_count": null,
      "outputs": []
    },
    {
      "cell_type": "code",
      "metadata": {
        "colab": {
          "base_uri": "https://localhost:8080/"
        },
        "id": "pqG3KHx1eA52",
        "outputId": "a82142f3-d99a-4613-a702-ff69809245fd"
      },
      "source": [
        "!pwd"
      ],
      "execution_count": null,
      "outputs": [
        {
          "output_type": "stream",
          "text": [
            "/content\n"
          ],
          "name": "stdout"
        }
      ]
    },
    {
      "cell_type": "code",
      "metadata": {
        "id": "Lu3WGeI8v_5l"
      },
      "source": [
        ""
      ],
      "execution_count": 75,
      "outputs": []
    },
    {
      "cell_type": "code",
      "metadata": {
        "colab": {
          "base_uri": "https://localhost:8080/",
          "height": 35
        },
        "id": "vC_UdhjMwDtF",
        "outputId": "72c277e1-3ea8-4722-9495-d2e0e1606511"
      },
      "source": [
        "states[0]"
      ],
      "execution_count": 76,
      "outputs": [
        {
          "output_type": "execute_result",
          "data": {
            "application/vnd.google.colaboratory.intrinsic+json": {
              "type": "string"
            },
            "text/plain": [
              "'A'"
            ]
          },
          "metadata": {
            "tags": []
          },
          "execution_count": 76
        }
      ]
    }
  ]
}